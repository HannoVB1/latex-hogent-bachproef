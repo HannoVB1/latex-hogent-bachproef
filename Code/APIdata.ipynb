{
 "cells": [
  {
   "cell_type": "markdown",
   "id": "fe7a62c1",
   "metadata": {},
   "source": [
    "here we make the api calls for the data"
   ]
  },
  {
   "cell_type": "code",
   "execution_count": 1,
   "id": "1dfe312e",
   "metadata": {},
   "outputs": [],
   "source": [
    "import requests\n",
    "import pandas as pd\n",
    "import time\n",
    "\n",
    "API_KEY = \"CG-YbJf36XgKvEuq3n5Sv4fbXgC\"\n",
    "HEADERS = {\n",
    "    \"x-cg-pro-api-key\": API_KEY\n",
    "}"
   ]
  },
  {
   "cell_type": "code",
   "execution_count": 2,
   "id": "84ad37f0",
   "metadata": {},
   "outputs": [],
   "source": [
    "def get_ohlc_data(coin_id, vs_currency='usd', days='max'):\n",
    "    url = f\"https://pro-api.coingecko.com/api/v3/coins/{coin_id}/ohlc\"\n",
    "    params = {\n",
    "        \"vs_currency\": vs_currency,\n",
    "        \"days\": days  # 'max' gives the full history\n",
    "    }\n",
    "    response = requests.get(url, headers=HEADERS, params=params)\n",
    "    data = response.json()\n",
    "    df = pd.DataFrame(data, columns=[\"timestamp\", \"open\", \"high\", \"low\", \"close\"])\n",
    "    df[\"date\"] = pd.to_datetime(df[\"timestamp\"], unit=\"ms\")\n",
    "    return df[[\"date\", \"open\", \"high\", \"low\", \"close\"]]\n"
   ]
  },
  {
   "cell_type": "code",
   "execution_count": 3,
   "id": "587f0dad",
   "metadata": {},
   "outputs": [],
   "source": [
    "def get_market_chart(coin_id, vs_currency='usd', days='max'):\n",
    "    \"\"\"\n",
    "    Retrieves daily price, market cap, and volume data for a given cryptocurrency.\n",
    "\n",
    "    Args:\n",
    "        coin_id (str): The CoinGecko coin ID (e.g., 'bitcoin').\n",
    "        vs_currency (str): The fiat currency to compare against (default: 'usd').\n",
    "        days (str): Duration of data to fetch (default: 'max' for full history).\n",
    "\n",
    "    Returns:\n",
    "        pd.DataFrame: DataFrame containing date, price, market_cap, and volume.\n",
    "    \"\"\"\n",
    "    url = f\"https://pro-api.coingecko.com/api/v3/coins/{coin_id}/market_chart\"\n",
    "    params = {\n",
    "        \"vs_currency\": vs_currency,\n",
    "        \"days\": days,\n",
    "        \"interval\": \"daily\"\n",
    "    }\n",
    "\n",
    "    response = requests.get(url, headers=HEADERS, params=params)\n",
    "    response.raise_for_status()\n",
    "    data = response.json()\n",
    "\n",
    "    # Convert and align timestamps\n",
    "    prices = pd.DataFrame(data[\"prices\"], columns=[\"timestamp\", \"price\"])\n",
    "    market_caps = pd.DataFrame(data[\"market_caps\"], columns=[\"timestamp\", \"market_cap\"])\n",
    "    volumes = pd.DataFrame(data[\"total_volumes\"], columns=[\"timestamp\", \"volume\"])\n",
    "\n",
    "    for df in (prices, market_caps, volumes):\n",
    "        df[\"date\"] = pd.to_datetime(df[\"timestamp\"], unit=\"ms\")\n",
    "\n",
    "    # Merge into one dataframe\n",
    "    merged = prices[[\"date\", \"price\"]].merge(\n",
    "        market_caps[[\"date\", \"market_cap\"]], on=\"date\"\n",
    "    ).merge(\n",
    "        volumes[[\"date\", \"volume\"]], on=\"date\"\n",
    "    )\n",
    "\n",
    "    return merged\n",
    "\n",
    "\n"
   ]
  },
  {
   "cell_type": "code",
   "execution_count": 4,
   "id": "a9fe2209",
   "metadata": {},
   "outputs": [],
   "source": [
    "def get_full_data(coin_id):\n",
    "    market = get_market_chart(coin_id)\n",
    "    return market\n"
   ]
  },
  {
   "cell_type": "code",
   "execution_count": 5,
   "id": "d6881ec3",
   "metadata": {},
   "outputs": [],
   "source": [
    "btc_data = get_full_data(\"bitcoin\")\n",
    "xtz_data = get_full_data(\"tezos\")\n",
    "\n",
    "btc_data.to_csv(\"bitcoin_data.csv\", index=False)\n",
    "xtz_data.to_csv(\"tezos_data.csv\", index=False)\n"
   ]
  }
 ],
 "metadata": {
  "kernelspec": {
   "display_name": "Python 3",
   "language": "python",
   "name": "python3"
  },
  "language_info": {
   "codemirror_mode": {
    "name": "ipython",
    "version": 3
   },
   "file_extension": ".py",
   "mimetype": "text/x-python",
   "name": "python",
   "nbconvert_exporter": "python",
   "pygments_lexer": "ipython3",
   "version": "3.10.6"
  }
 },
 "nbformat": 4,
 "nbformat_minor": 5
}
